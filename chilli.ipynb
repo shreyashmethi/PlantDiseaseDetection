{
 "cells": [
  {
   "cell_type": "code",
   "execution_count": 150,
   "id": "83350660",
   "metadata": {},
   "outputs": [],
   "source": [
    "import numpy as np\n",
    "import cv2\n",
    "\n",
    "import PIL.Image as Image\n",
    "import os\n",
    "\n",
    "import matplotlib.pylab as plt\n",
    "\n",
    "import tensorflow as tf\n",
    "import tensorflow_hub as hub\n",
    "\n",
    "from tensorflow import keras\n",
    "from tensorflow.keras import layers\n",
    "from tensorflow.keras.models import Sequential"
   ]
  },
  {
   "cell_type": "code",
   "execution_count": 151,
   "id": "ab827974",
   "metadata": {},
   "outputs": [
    {
     "name": "stdout",
     "output_type": "stream",
     "text": [
      "Found 714 files belonging to 7 classes.\n"
     ]
    }
   ],
   "source": [
    "dataset = tf.keras.preprocessing.image_dataset_from_directory(\n",
    "    \"dataset\",\n",
    "    shuffle=True,\n",
    "    image_size=(256,256),\n",
    ")"
   ]
  },
  {
   "cell_type": "code",
   "execution_count": 152,
   "id": "816af92c",
   "metadata": {},
   "outputs": [
    {
     "data": {
      "text/plain": [
       "(18.400000000000002, 4.6000000000000005)"
      ]
     },
     "execution_count": 152,
     "metadata": {},
     "output_type": "execute_result"
    }
   ],
   "source": [
    "len(dataset)\n",
    "train_size = 0.8 \n",
    "len(dataset)*train_size , len(dataset)*0.2"
   ]
  },
  {
   "cell_type": "code",
   "execution_count": 153,
   "id": "30355922",
   "metadata": {},
   "outputs": [
    {
     "data": {
      "text/plain": [
       "23"
      ]
     },
     "execution_count": 153,
     "metadata": {},
     "output_type": "execute_result"
    }
   ],
   "source": [
    "train_ds = dataset.take(72)\n",
    "len(train_ds)"
   ]
  },
  {
   "cell_type": "code",
   "execution_count": 154,
   "id": "81654e4c",
   "metadata": {},
   "outputs": [
    {
     "data": {
      "text/plain": [
       "0"
      ]
     },
     "execution_count": 154,
     "metadata": {},
     "output_type": "execute_result"
    }
   ],
   "source": [
    "test_ds = dataset.skip(72)\n",
    "len(test_ds)"
   ]
  },
  {
   "cell_type": "code",
   "execution_count": 155,
   "id": "63d26c9a",
   "metadata": {},
   "outputs": [
    {
     "data": {
      "text/plain": [
       "(0, 0)"
      ]
     },
     "execution_count": 155,
     "metadata": {},
     "output_type": "execute_result"
    }
   ],
   "source": [
    "val_ds = test_ds.take(9)\n",
    "test_ds = test_ds.skip(9)\n",
    "len(test_ds) , len(val_ds)"
   ]
  },
  {
   "cell_type": "code",
   "execution_count": 156,
   "id": "83e5b44a",
   "metadata": {},
   "outputs": [],
   "source": [
    "def get_dataset_partitions_tf(ds, train_split=0.8, val_split=0.1, test_split=0.1, shuffle=True, shuffle_size=10000):\n",
    "    assert (train_split + test_split + val_split) == 1\n",
    "    \n",
    "    ds_size = len(ds)\n",
    "    \n",
    "    if shuffle:\n",
    "        ds = ds.shuffle(shuffle_size)\n",
    "    \n",
    "    train_size = int(train_split * ds_size)\n",
    "    val_size = int(val_split * ds_size)\n",
    "    \n",
    "    train_ds = ds.take(train_size)    \n",
    "    val_ds = ds.skip(train_size).take(val_size)\n",
    "    test_ds = ds.skip(train_size).skip(val_size)\n",
    "    \n",
    "    return train_ds, val_ds, test_ds"
   ]
  },
  {
   "cell_type": "code",
   "execution_count": 157,
   "id": "48789302",
   "metadata": {},
   "outputs": [
    {
     "data": {
      "text/plain": [
       "(18, 3, 3)"
      ]
     },
     "execution_count": 157,
     "metadata": {},
     "output_type": "execute_result"
    }
   ],
   "source": [
    "\n",
    "train_ds, val_ds, test_ds = get_dataset_partitions_tf(dataset)\n",
    "len(train_ds),len(test_ds),len(test_ds)\n"
   ]
  },
  {
   "cell_type": "code",
   "execution_count": 158,
   "id": "90314a31",
   "metadata": {},
   "outputs": [],
   "source": [
    "train_ds = train_ds.cache().shuffle(1000).prefetch(buffer_size=tf.data.AUTOTUNE)\n",
    "val_ds = val_ds.cache().shuffle(1000).prefetch(buffer_size=tf.data.AUTOTUNE)\n",
    "test_ds = test_ds.cache().shuffle(1000).prefetch(buffer_size=tf.data.AUTOTUNE)\n"
   ]
  },
  {
   "cell_type": "code",
   "execution_count": 159,
   "id": "5758410f",
   "metadata": {},
   "outputs": [],
   "source": [
    "resize_and_rescale = tf.keras.Sequential([\n",
    "  layers.experimental.preprocessing.Resizing(256, 256),\n",
    "  layers.experimental.preprocessing.Rescaling(1./255),\n",
    "])"
   ]
  },
  {
   "cell_type": "code",
   "execution_count": 160,
   "id": "2c6e5908",
   "metadata": {},
   "outputs": [],
   "source": [
    "data_augmentation = tf.keras.Sequential([\n",
    "  tf.keras.layers.RandomFlip('horizontal'),\n",
    "  tf.keras.layers.RandomRotation(0.2),\n",
    "])"
   ]
  },
  {
   "cell_type": "code",
   "execution_count": 161,
   "id": "4e1a0b67",
   "metadata": {},
   "outputs": [
    {
     "name": "stdout",
     "output_type": "stream",
     "text": [
      "WARNING:tensorflow:Using a while_loop for converting RngReadAndSkip cause there is no registered converter for this op.\n"
     ]
    },
    {
     "name": "stderr",
     "output_type": "stream",
     "text": [
      "WARNING:tensorflow:Using a while_loop for converting RngReadAndSkip cause there is no registered converter for this op.\n"
     ]
    },
    {
     "name": "stdout",
     "output_type": "stream",
     "text": [
      "WARNING:tensorflow:Using a while_loop for converting Bitcast cause there is no registered converter for this op.\n"
     ]
    },
    {
     "name": "stderr",
     "output_type": "stream",
     "text": [
      "WARNING:tensorflow:Using a while_loop for converting Bitcast cause there is no registered converter for this op.\n"
     ]
    },
    {
     "name": "stdout",
     "output_type": "stream",
     "text": [
      "WARNING:tensorflow:Using a while_loop for converting Bitcast cause there is no registered converter for this op.\n"
     ]
    },
    {
     "name": "stderr",
     "output_type": "stream",
     "text": [
      "WARNING:tensorflow:Using a while_loop for converting Bitcast cause there is no registered converter for this op.\n"
     ]
    },
    {
     "name": "stdout",
     "output_type": "stream",
     "text": [
      "WARNING:tensorflow:Using a while_loop for converting StatelessRandomUniformV2 cause there is no registered converter for this op.\n"
     ]
    },
    {
     "name": "stderr",
     "output_type": "stream",
     "text": [
      "WARNING:tensorflow:Using a while_loop for converting StatelessRandomUniformV2 cause there is no registered converter for this op.\n"
     ]
    },
    {
     "name": "stdout",
     "output_type": "stream",
     "text": [
      "WARNING:tensorflow:Using a while_loop for converting ImageProjectiveTransformV3 cause there is no registered converter for this op.\n"
     ]
    },
    {
     "name": "stderr",
     "output_type": "stream",
     "text": [
      "WARNING:tensorflow:Using a while_loop for converting ImageProjectiveTransformV3 cause there is no registered converter for this op.\n"
     ]
    },
    {
     "name": "stdout",
     "output_type": "stream",
     "text": [
      "WARNING:tensorflow:Using a while_loop for converting RngReadAndSkip cause there is no registered converter for this op.\n"
     ]
    },
    {
     "name": "stderr",
     "output_type": "stream",
     "text": [
      "WARNING:tensorflow:Using a while_loop for converting RngReadAndSkip cause there is no registered converter for this op.\n"
     ]
    },
    {
     "name": "stdout",
     "output_type": "stream",
     "text": [
      "WARNING:tensorflow:Using a while_loop for converting Bitcast cause there is no registered converter for this op.\n"
     ]
    },
    {
     "name": "stderr",
     "output_type": "stream",
     "text": [
      "WARNING:tensorflow:Using a while_loop for converting Bitcast cause there is no registered converter for this op.\n"
     ]
    },
    {
     "name": "stdout",
     "output_type": "stream",
     "text": [
      "WARNING:tensorflow:Using a while_loop for converting Bitcast cause there is no registered converter for this op.\n"
     ]
    },
    {
     "name": "stderr",
     "output_type": "stream",
     "text": [
      "WARNING:tensorflow:Using a while_loop for converting Bitcast cause there is no registered converter for this op.\n"
     ]
    },
    {
     "name": "stdout",
     "output_type": "stream",
     "text": [
      "WARNING:tensorflow:Using a while_loop for converting StatelessRandomUniformV2 cause there is no registered converter for this op.\n"
     ]
    },
    {
     "name": "stderr",
     "output_type": "stream",
     "text": [
      "WARNING:tensorflow:Using a while_loop for converting StatelessRandomUniformV2 cause there is no registered converter for this op.\n"
     ]
    },
    {
     "name": "stdout",
     "output_type": "stream",
     "text": [
      "WARNING:tensorflow:Using a while_loop for converting ImageProjectiveTransformV3 cause there is no registered converter for this op.\n"
     ]
    },
    {
     "name": "stderr",
     "output_type": "stream",
     "text": [
      "WARNING:tensorflow:Using a while_loop for converting ImageProjectiveTransformV3 cause there is no registered converter for this op.\n"
     ]
    }
   ],
   "source": [
    "train_ds = train_ds.map(\n",
    "    lambda x, y: (data_augmentation(x, training=True), y)\n",
    ").prefetch(buffer_size=tf.data.AUTOTUNE)"
   ]
  },
  {
   "cell_type": "code",
   "execution_count": 181,
   "id": "ea3f2d68",
   "metadata": {
    "scrolled": true
   },
   "outputs": [],
   "source": [
    "input_shape = (256, 256, 3)\n",
    "n_classes = 7\n",
    "\n",
    "model = keras.models.Sequential([\n",
    "    data_augmentation,\n",
    "    layers.Conv2D(32, kernel_size = (3,3), activation='relu',),\n",
    "    layers.MaxPooling2D((2, 2)),\n",
    "    layers.Conv2D(64,  kernel_size = (3,3), activation='relu'),\n",
    "    layers.MaxPooling2D((2, 2)),\n",
    "    layers.Conv2D(64,  kernel_size = (3,3), activation='relu'),\n",
    "    layers.MaxPooling2D((2, 2)),\n",
    "    layers.Conv2D(64, (3, 3), activation='relu'),\n",
    "    layers.MaxPooling2D((2, 2)),\n",
    "    layers.Conv2D(64, (3, 3), activation='relu'),\n",
    "    layers.MaxPooling2D((2, 2)),\n",
    "    layers.Conv2D(64, (3, 3), activation='relu'),\n",
    "    layers.MaxPooling2D((2, 2)),\n",
    "    layers.Flatten(),\n",
    "    layers.Dense(64, activation='relu'),\n",
    "    layers.Dense(n_classes, activation='softmax'),\n",
    "])\n"
   ]
  },
  {
   "cell_type": "code",
   "execution_count": 182,
   "id": "9cf748e3",
   "metadata": {},
   "outputs": [],
   "source": [
    "model.compile(\n",
    "    optimizer='adam',\n",
    "    loss=tf.keras.losses.SparseCategoricalCrossentropy(from_logits=False),\n",
    "    metrics=['accuracy']\n",
    ")"
   ]
  },
  {
   "cell_type": "code",
   "execution_count": 183,
   "id": "a6133d77",
   "metadata": {
    "scrolled": true
   },
   "outputs": [
    {
     "name": "stdout",
     "output_type": "stream",
     "text": [
      "Epoch 1/50\n",
      "WARNING:tensorflow:Using a while_loop for converting RngReadAndSkip cause there is no registered converter for this op.\n"
     ]
    },
    {
     "name": "stderr",
     "output_type": "stream",
     "text": [
      "WARNING:tensorflow:Using a while_loop for converting RngReadAndSkip cause there is no registered converter for this op.\n"
     ]
    },
    {
     "name": "stdout",
     "output_type": "stream",
     "text": [
      "WARNING:tensorflow:Using a while_loop for converting Bitcast cause there is no registered converter for this op.\n"
     ]
    },
    {
     "name": "stderr",
     "output_type": "stream",
     "text": [
      "WARNING:tensorflow:Using a while_loop for converting Bitcast cause there is no registered converter for this op.\n"
     ]
    },
    {
     "name": "stdout",
     "output_type": "stream",
     "text": [
      "WARNING:tensorflow:Using a while_loop for converting Bitcast cause there is no registered converter for this op.\n"
     ]
    },
    {
     "name": "stderr",
     "output_type": "stream",
     "text": [
      "WARNING:tensorflow:Using a while_loop for converting Bitcast cause there is no registered converter for this op.\n"
     ]
    },
    {
     "name": "stdout",
     "output_type": "stream",
     "text": [
      "WARNING:tensorflow:Using a while_loop for converting StatelessRandomUniformV2 cause there is no registered converter for this op.\n"
     ]
    },
    {
     "name": "stderr",
     "output_type": "stream",
     "text": [
      "WARNING:tensorflow:Using a while_loop for converting StatelessRandomUniformV2 cause there is no registered converter for this op.\n"
     ]
    },
    {
     "name": "stdout",
     "output_type": "stream",
     "text": [
      "WARNING:tensorflow:Using a while_loop for converting ImageProjectiveTransformV3 cause there is no registered converter for this op.\n"
     ]
    },
    {
     "name": "stderr",
     "output_type": "stream",
     "text": [
      "WARNING:tensorflow:Using a while_loop for converting ImageProjectiveTransformV3 cause there is no registered converter for this op.\n"
     ]
    },
    {
     "name": "stdout",
     "output_type": "stream",
     "text": [
      "WARNING:tensorflow:Using a while_loop for converting RngReadAndSkip cause there is no registered converter for this op.\n"
     ]
    },
    {
     "name": "stderr",
     "output_type": "stream",
     "text": [
      "WARNING:tensorflow:Using a while_loop for converting RngReadAndSkip cause there is no registered converter for this op.\n"
     ]
    },
    {
     "name": "stdout",
     "output_type": "stream",
     "text": [
      "WARNING:tensorflow:Using a while_loop for converting Bitcast cause there is no registered converter for this op.\n"
     ]
    },
    {
     "name": "stderr",
     "output_type": "stream",
     "text": [
      "WARNING:tensorflow:Using a while_loop for converting Bitcast cause there is no registered converter for this op.\n"
     ]
    },
    {
     "name": "stdout",
     "output_type": "stream",
     "text": [
      "WARNING:tensorflow:Using a while_loop for converting Bitcast cause there is no registered converter for this op.\n"
     ]
    },
    {
     "name": "stderr",
     "output_type": "stream",
     "text": [
      "WARNING:tensorflow:Using a while_loop for converting Bitcast cause there is no registered converter for this op.\n"
     ]
    },
    {
     "name": "stdout",
     "output_type": "stream",
     "text": [
      "WARNING:tensorflow:Using a while_loop for converting StatelessRandomUniformV2 cause there is no registered converter for this op.\n"
     ]
    },
    {
     "name": "stderr",
     "output_type": "stream",
     "text": [
      "WARNING:tensorflow:Using a while_loop for converting StatelessRandomUniformV2 cause there is no registered converter for this op.\n"
     ]
    },
    {
     "name": "stdout",
     "output_type": "stream",
     "text": [
      "WARNING:tensorflow:Using a while_loop for converting ImageProjectiveTransformV3 cause there is no registered converter for this op.\n"
     ]
    },
    {
     "name": "stderr",
     "output_type": "stream",
     "text": [
      "WARNING:tensorflow:Using a while_loop for converting ImageProjectiveTransformV3 cause there is no registered converter for this op.\n"
     ]
    },
    {
     "name": "stdout",
     "output_type": "stream",
     "text": [
      "WARNING:tensorflow:Using a while_loop for converting RngReadAndSkip cause there is no registered converter for this op.\n"
     ]
    },
    {
     "name": "stderr",
     "output_type": "stream",
     "text": [
      "WARNING:tensorflow:Using a while_loop for converting RngReadAndSkip cause there is no registered converter for this op.\n"
     ]
    },
    {
     "name": "stdout",
     "output_type": "stream",
     "text": [
      "WARNING:tensorflow:Using a while_loop for converting Bitcast cause there is no registered converter for this op.\n"
     ]
    },
    {
     "name": "stderr",
     "output_type": "stream",
     "text": [
      "WARNING:tensorflow:Using a while_loop for converting Bitcast cause there is no registered converter for this op.\n"
     ]
    },
    {
     "name": "stdout",
     "output_type": "stream",
     "text": [
      "WARNING:tensorflow:Using a while_loop for converting Bitcast cause there is no registered converter for this op.\n"
     ]
    },
    {
     "name": "stderr",
     "output_type": "stream",
     "text": [
      "WARNING:tensorflow:Using a while_loop for converting Bitcast cause there is no registered converter for this op.\n"
     ]
    },
    {
     "name": "stdout",
     "output_type": "stream",
     "text": [
      "WARNING:tensorflow:Using a while_loop for converting StatelessRandomUniformV2 cause there is no registered converter for this op.\n"
     ]
    },
    {
     "name": "stderr",
     "output_type": "stream",
     "text": [
      "WARNING:tensorflow:Using a while_loop for converting StatelessRandomUniformV2 cause there is no registered converter for this op.\n"
     ]
    },
    {
     "name": "stdout",
     "output_type": "stream",
     "text": [
      "WARNING:tensorflow:Using a while_loop for converting ImageProjectiveTransformV3 cause there is no registered converter for this op.\n"
     ]
    },
    {
     "name": "stderr",
     "output_type": "stream",
     "text": [
      "WARNING:tensorflow:Using a while_loop for converting ImageProjectiveTransformV3 cause there is no registered converter for this op.\n"
     ]
    },
    {
     "name": "stdout",
     "output_type": "stream",
     "text": [
      "18/18 [==============================] - 7s 186ms/step - loss: 5.4334 - accuracy: 0.1570 - val_loss: 1.8641 - val_accuracy: 0.2969\n",
      "Epoch 2/50\n",
      "18/18 [==============================] - 3s 171ms/step - loss: 1.7953 - accuracy: 0.2708 - val_loss: 1.6245 - val_accuracy: 0.3281\n",
      "Epoch 3/50\n",
      "18/18 [==============================] - 3s 172ms/step - loss: 1.4586 - accuracy: 0.4206 - val_loss: 1.4498 - val_accuracy: 0.5000\n",
      "Epoch 4/50\n",
      "18/18 [==============================] - 3s 169ms/step - loss: 1.1871 - accuracy: 0.5289 - val_loss: 1.9391 - val_accuracy: 0.2656\n",
      "Epoch 5/50\n",
      "18/18 [==============================] - 3s 171ms/step - loss: 1.0289 - accuracy: 0.5722 - val_loss: 1.3507 - val_accuracy: 0.4844\n",
      "Epoch 6/50\n",
      "18/18 [==============================] - 3s 176ms/step - loss: 1.0908 - accuracy: 0.6137 - val_loss: 1.7694 - val_accuracy: 0.3750\n",
      "Epoch 7/50\n",
      "18/18 [==============================] - 3s 171ms/step - loss: 1.0855 - accuracy: 0.5903 - val_loss: 1.3832 - val_accuracy: 0.4844\n",
      "Epoch 8/50\n",
      "18/18 [==============================] - 3s 173ms/step - loss: 0.9098 - accuracy: 0.6390 - val_loss: 1.3916 - val_accuracy: 0.6094\n",
      "Epoch 9/50\n",
      "18/18 [==============================] - 3s 182ms/step - loss: 0.8618 - accuracy: 0.6877 - val_loss: 1.3396 - val_accuracy: 0.5312\n",
      "Epoch 10/50\n",
      "18/18 [==============================] - 3s 173ms/step - loss: 0.7538 - accuracy: 0.7058 - val_loss: 2.0071 - val_accuracy: 0.4219\n",
      "Epoch 11/50\n",
      "18/18 [==============================] - 3s 173ms/step - loss: 0.7452 - accuracy: 0.7184 - val_loss: 1.3265 - val_accuracy: 0.5625\n",
      "Epoch 12/50\n",
      "18/18 [==============================] - 3s 172ms/step - loss: 0.6558 - accuracy: 0.7437 - val_loss: 1.2692 - val_accuracy: 0.7031\n",
      "Epoch 13/50\n",
      "18/18 [==============================] - 3s 172ms/step - loss: 0.8134 - accuracy: 0.7076 - val_loss: 1.9430 - val_accuracy: 0.5000\n",
      "Epoch 14/50\n",
      "18/18 [==============================] - 3s 183ms/step - loss: 0.8686 - accuracy: 0.6841 - val_loss: 1.1763 - val_accuracy: 0.5938\n",
      "Epoch 15/50\n",
      "18/18 [==============================] - 3s 171ms/step - loss: 0.7090 - accuracy: 0.7545 - val_loss: 1.2574 - val_accuracy: 0.5938\n",
      "Epoch 16/50\n",
      "18/18 [==============================] - 3s 171ms/step - loss: 0.6469 - accuracy: 0.7563 - val_loss: 1.0944 - val_accuracy: 0.5938\n",
      "Epoch 17/50\n",
      "18/18 [==============================] - 3s 170ms/step - loss: 0.5022 - accuracy: 0.7924 - val_loss: 1.5516 - val_accuracy: 0.5938\n",
      "Epoch 18/50\n",
      "18/18 [==============================] - 3s 171ms/step - loss: 0.5778 - accuracy: 0.8069 - val_loss: 1.0810 - val_accuracy: 0.7031\n",
      "Epoch 19/50\n",
      "18/18 [==============================] - 3s 174ms/step - loss: 0.5515 - accuracy: 0.8213 - val_loss: 0.9151 - val_accuracy: 0.6875\n",
      "Epoch 20/50\n",
      "18/18 [==============================] - 3s 170ms/step - loss: 0.4281 - accuracy: 0.8628 - val_loss: 0.9953 - val_accuracy: 0.7344\n",
      "Epoch 21/50\n",
      "18/18 [==============================] - 3s 173ms/step - loss: 0.4657 - accuracy: 0.8267 - val_loss: 0.9744 - val_accuracy: 0.7656\n",
      "Epoch 22/50\n",
      "18/18 [==============================] - 3s 177ms/step - loss: 0.4925 - accuracy: 0.8303 - val_loss: 2.1009 - val_accuracy: 0.5156\n",
      "Epoch 23/50\n",
      "18/18 [==============================] - 3s 171ms/step - loss: 0.4831 - accuracy: 0.8375 - val_loss: 1.1503 - val_accuracy: 0.6719\n",
      "Epoch 24/50\n",
      "18/18 [==============================] - 3s 169ms/step - loss: 0.4586 - accuracy: 0.8484 - val_loss: 1.3941 - val_accuracy: 0.6875\n",
      "Epoch 25/50\n",
      "18/18 [==============================] - 3s 169ms/step - loss: 0.4324 - accuracy: 0.8484 - val_loss: 0.8377 - val_accuracy: 0.7812\n",
      "Epoch 26/50\n",
      "18/18 [==============================] - 3s 170ms/step - loss: 0.4300 - accuracy: 0.8646 - val_loss: 1.5677 - val_accuracy: 0.7031\n",
      "Epoch 27/50\n",
      "18/18 [==============================] - 3s 169ms/step - loss: 0.4025 - accuracy: 0.8682 - val_loss: 1.7460 - val_accuracy: 0.7031\n",
      "Epoch 28/50\n",
      "18/18 [==============================] - 3s 169ms/step - loss: 0.4790 - accuracy: 0.8448 - val_loss: 1.6494 - val_accuracy: 0.7031\n",
      "Epoch 29/50\n",
      "18/18 [==============================] - 3s 167ms/step - loss: 0.4805 - accuracy: 0.8267 - val_loss: 0.8168 - val_accuracy: 0.7969\n",
      "Epoch 30/50\n",
      "18/18 [==============================] - 3s 168ms/step - loss: 0.5271 - accuracy: 0.8195 - val_loss: 1.3545 - val_accuracy: 0.7812\n",
      "Epoch 31/50\n",
      "18/18 [==============================] - 3s 168ms/step - loss: 0.3334 - accuracy: 0.8809 - val_loss: 0.9448 - val_accuracy: 0.7656\n",
      "Epoch 32/50\n",
      "18/18 [==============================] - 3s 167ms/step - loss: 0.3046 - accuracy: 0.9007 - val_loss: 1.0120 - val_accuracy: 0.7812\n",
      "Epoch 33/50\n",
      "18/18 [==============================] - 3s 168ms/step - loss: 0.3813 - accuracy: 0.8700 - val_loss: 0.7946 - val_accuracy: 0.7500\n",
      "Epoch 34/50\n",
      "18/18 [==============================] - 3s 169ms/step - loss: 0.4159 - accuracy: 0.8574 - val_loss: 1.2074 - val_accuracy: 0.7344\n",
      "Epoch 35/50\n",
      "18/18 [==============================] - 3s 166ms/step - loss: 0.3301 - accuracy: 0.8863 - val_loss: 1.2528 - val_accuracy: 0.7344\n",
      "Epoch 36/50\n",
      "18/18 [==============================] - 3s 168ms/step - loss: 0.2715 - accuracy: 0.9043 - val_loss: 1.0180 - val_accuracy: 0.7656\n",
      "Epoch 37/50\n",
      "18/18 [==============================] - 3s 166ms/step - loss: 0.2636 - accuracy: 0.9079 - val_loss: 1.3054 - val_accuracy: 0.7656\n",
      "Epoch 38/50\n",
      "18/18 [==============================] - 3s 167ms/step - loss: 0.3574 - accuracy: 0.8827 - val_loss: 0.8137 - val_accuracy: 0.7812\n",
      "Epoch 39/50\n",
      "18/18 [==============================] - 3s 167ms/step - loss: 0.2732 - accuracy: 0.8953 - val_loss: 1.4542 - val_accuracy: 0.7812\n",
      "Epoch 40/50\n",
      "18/18 [==============================] - 3s 168ms/step - loss: 0.3196 - accuracy: 0.8881 - val_loss: 0.8499 - val_accuracy: 0.7812\n",
      "Epoch 41/50\n",
      "18/18 [==============================] - 3s 168ms/step - loss: 0.3427 - accuracy: 0.8971 - val_loss: 0.8002 - val_accuracy: 0.8281\n",
      "Epoch 42/50\n",
      "18/18 [==============================] - 3s 167ms/step - loss: 0.2816 - accuracy: 0.9007 - val_loss: 1.0898 - val_accuracy: 0.7969\n",
      "Epoch 43/50\n",
      "18/18 [==============================] - 3s 166ms/step - loss: 0.3577 - accuracy: 0.8971 - val_loss: 0.9548 - val_accuracy: 0.8281\n",
      "Epoch 44/50\n",
      "18/18 [==============================] - 3s 168ms/step - loss: 0.2264 - accuracy: 0.9296 - val_loss: 1.5465 - val_accuracy: 0.6562\n",
      "Epoch 45/50\n",
      "18/18 [==============================] - 3s 165ms/step - loss: 0.3195 - accuracy: 0.8899 - val_loss: 1.0722 - val_accuracy: 0.8281\n",
      "Epoch 46/50\n",
      "18/18 [==============================] - 3s 175ms/step - loss: 0.1831 - accuracy: 0.9332 - val_loss: 1.2416 - val_accuracy: 0.7812\n",
      "Epoch 47/50\n",
      "18/18 [==============================] - 3s 178ms/step - loss: 0.1726 - accuracy: 0.9296 - val_loss: 0.9020 - val_accuracy: 0.8281\n",
      "Epoch 48/50\n",
      "18/18 [==============================] - 3s 175ms/step - loss: 0.1636 - accuracy: 0.9495 - val_loss: 1.4018 - val_accuracy: 0.7500\n",
      "Epoch 49/50\n",
      "18/18 [==============================] - 3s 182ms/step - loss: 0.1887 - accuracy: 0.9386 - val_loss: 1.1258 - val_accuracy: 0.7969\n",
      "Epoch 50/50\n",
      "18/18 [==============================] - 3s 172ms/step - loss: 0.1935 - accuracy: 0.9278 - val_loss: 1.0245 - val_accuracy: 0.7969\n"
     ]
    }
   ],
   "source": [
    "history = model.fit(\n",
    "    train_ds,\n",
    "    validation_data=val_ds,\n",
    "    verbose=1,\n",
    "    epochs=50,\n",
    ")"
   ]
  },
  {
   "cell_type": "code",
   "execution_count": 184,
   "id": "197c34d2",
   "metadata": {
    "scrolled": false
   },
   "outputs": [
    {
     "name": "stdout",
     "output_type": "stream",
     "text": [
      "3/3 [==============================] - 0s 31ms/step - loss: 0.7229 - accuracy: 0.7396\n"
     ]
    }
   ],
   "source": [
    "scores = model.evaluate(test_ds)"
   ]
  },
  {
   "cell_type": "code",
   "execution_count": 185,
   "id": "46f3a89a",
   "metadata": {
    "scrolled": true
   },
   "outputs": [
    {
     "data": {
      "text/plain": [
       "['anthrecnose of pepper',\n",
       " 'broad mites',\n",
       " 'cercospora leaf spot of chilli',\n",
       " 'chilli thrips',\n",
       " 'healthy chilli',\n",
       " 'leaf miner',\n",
       " 'wilt']"
      ]
     },
     "execution_count": 185,
     "metadata": {},
     "output_type": "execute_result"
    }
   ],
   "source": [
    "class_names = dataset.class_names\n",
    "class_names"
   ]
  },
  {
   "cell_type": "code",
   "execution_count": 194,
   "id": "75adf9dd",
   "metadata": {
    "scrolled": true
   },
   "outputs": [
    {
     "name": "stdout",
     "output_type": "stream",
     "text": [
      "1/1 [==============================] - 0s 35ms/step\n",
      "actual label: healthy chilli\n",
      "predicted label: broad mites\n",
      "actual label: leaf miner\n",
      "predicted label: leaf miner\n",
      "actual label: chilli thrips\n",
      "predicted label: healthy chilli\n",
      "actual label: chilli thrips\n",
      "predicted label: chilli thrips\n",
      "actual label: chilli thrips\n",
      "predicted label: healthy chilli\n",
      "actual label: cercospora leaf spot of chilli\n",
      "predicted label: cercospora leaf spot of chilli\n",
      "actual label: wilt\n",
      "predicted label: wilt\n",
      "actual label: chilli thrips\n",
      "predicted label: healthy chilli\n",
      "actual label: anthrecnose of pepper\n",
      "predicted label: healthy chilli\n",
      "actual label: wilt\n",
      "predicted label: wilt\n",
      "actual label: wilt\n",
      "predicted label: wilt\n",
      "actual label: broad mites\n",
      "predicted label: broad mites\n",
      "actual label: cercospora leaf spot of chilli\n",
      "predicted label: leaf miner\n",
      "actual label: broad mites\n",
      "predicted label: broad mites\n",
      "actual label: chilli thrips\n",
      "predicted label: chilli thrips\n",
      "actual label: broad mites\n",
      "predicted label: broad mites\n",
      "actual label: cercospora leaf spot of chilli\n",
      "predicted label: anthrecnose of pepper\n",
      "actual label: broad mites\n",
      "predicted label: healthy chilli\n",
      "actual label: anthrecnose of pepper\n",
      "predicted label: wilt\n",
      "actual label: anthrecnose of pepper\n",
      "predicted label: healthy chilli\n",
      "actual label: healthy chilli\n",
      "predicted label: healthy chilli\n",
      "actual label: broad mites\n",
      "predicted label: broad mites\n",
      "actual label: anthrecnose of pepper\n",
      "predicted label: anthrecnose of pepper\n",
      "actual label: broad mites\n",
      "predicted label: broad mites\n",
      "actual label: leaf miner\n",
      "predicted label: leaf miner\n",
      "actual label: broad mites\n",
      "predicted label: broad mites\n",
      "actual label: chilli thrips\n",
      "predicted label: healthy chilli\n",
      "actual label: healthy chilli\n",
      "predicted label: chilli thrips\n",
      "actual label: chilli thrips\n",
      "predicted label: chilli thrips\n",
      "actual label: leaf miner\n",
      "predicted label: leaf miner\n",
      "actual label: wilt\n",
      "predicted label: wilt\n",
      "actual label: chilli thrips\n",
      "predicted label: chilli thrips\n"
     ]
    },
    {
     "ename": "InvalidArgumentError",
     "evalue": "{{function_node __wrapped__StridedSlice_device_/job:localhost/replica:0/task:0/device:GPU:0}} slice index 32 of dimension 0 out of bounds. [Op:StridedSlice] name: strided_slice/",
     "output_type": "error",
     "traceback": [
      "\u001b[1;31m---------------------------------------------------------------------------\u001b[0m",
      "\u001b[1;31mInvalidArgumentError\u001b[0m                      Traceback (most recent call last)",
      "Input \u001b[1;32mIn [194]\u001b[0m, in \u001b[0;36m<cell line: 1>\u001b[1;34m()\u001b[0m\n\u001b[0;32m      6\u001b[0m batch_prediction \u001b[38;5;241m=\u001b[39m model\u001b[38;5;241m.\u001b[39mpredict(images_batch)\n\u001b[0;32m      7\u001b[0m \u001b[38;5;28;01mfor\u001b[39;00m i \u001b[38;5;129;01min\u001b[39;00m \u001b[38;5;28mrange\u001b[39m(\u001b[38;5;241m50\u001b[39m):\n\u001b[1;32m----> 8\u001b[0m     first_image \u001b[38;5;241m=\u001b[39m \u001b[43mimages_batch\u001b[49m\u001b[43m[\u001b[49m\u001b[43mi\u001b[49m\u001b[43m]\u001b[49m\u001b[38;5;241m.\u001b[39mnumpy()\u001b[38;5;241m.\u001b[39mastype(\u001b[38;5;124m'\u001b[39m\u001b[38;5;124muint8\u001b[39m\u001b[38;5;124m'\u001b[39m)\n\u001b[0;32m      9\u001b[0m     plt\u001b[38;5;241m.\u001b[39mimshow(first_image)\n\u001b[0;32m     10\u001b[0m     first_label \u001b[38;5;241m=\u001b[39m labels_batch[i]\u001b[38;5;241m.\u001b[39mnumpy()\n",
      "File \u001b[1;32m~\\anaconda3\\lib\\site-packages\\tensorflow\\python\\util\\traceback_utils.py:153\u001b[0m, in \u001b[0;36mfilter_traceback.<locals>.error_handler\u001b[1;34m(*args, **kwargs)\u001b[0m\n\u001b[0;32m    151\u001b[0m \u001b[38;5;28;01mexcept\u001b[39;00m \u001b[38;5;167;01mException\u001b[39;00m \u001b[38;5;28;01mas\u001b[39;00m e:\n\u001b[0;32m    152\u001b[0m   filtered_tb \u001b[38;5;241m=\u001b[39m _process_traceback_frames(e\u001b[38;5;241m.\u001b[39m__traceback__)\n\u001b[1;32m--> 153\u001b[0m   \u001b[38;5;28;01mraise\u001b[39;00m e\u001b[38;5;241m.\u001b[39mwith_traceback(filtered_tb) \u001b[38;5;28;01mfrom\u001b[39;00m \u001b[38;5;28mNone\u001b[39m\n\u001b[0;32m    154\u001b[0m \u001b[38;5;28;01mfinally\u001b[39;00m:\n\u001b[0;32m    155\u001b[0m   \u001b[38;5;28;01mdel\u001b[39;00m filtered_tb\n",
      "File \u001b[1;32m~\\anaconda3\\lib\\site-packages\\tensorflow\\python\\framework\\ops.py:7209\u001b[0m, in \u001b[0;36mraise_from_not_ok_status\u001b[1;34m(e, name)\u001b[0m\n\u001b[0;32m   7207\u001b[0m \u001b[38;5;28;01mdef\u001b[39;00m \u001b[38;5;21mraise_from_not_ok_status\u001b[39m(e, name):\n\u001b[0;32m   7208\u001b[0m   e\u001b[38;5;241m.\u001b[39mmessage \u001b[38;5;241m+\u001b[39m\u001b[38;5;241m=\u001b[39m (\u001b[38;5;124m\"\u001b[39m\u001b[38;5;124m name: \u001b[39m\u001b[38;5;124m\"\u001b[39m \u001b[38;5;241m+\u001b[39m name \u001b[38;5;28;01mif\u001b[39;00m name \u001b[38;5;129;01mis\u001b[39;00m \u001b[38;5;129;01mnot\u001b[39;00m \u001b[38;5;28;01mNone\u001b[39;00m \u001b[38;5;28;01melse\u001b[39;00m \u001b[38;5;124m\"\u001b[39m\u001b[38;5;124m\"\u001b[39m)\n\u001b[1;32m-> 7209\u001b[0m   \u001b[38;5;28;01mraise\u001b[39;00m core\u001b[38;5;241m.\u001b[39m_status_to_exception(e) \u001b[38;5;28;01mfrom\u001b[39;00m \u001b[38;5;28mNone\u001b[39m\n",
      "\u001b[1;31mInvalidArgumentError\u001b[0m: {{function_node __wrapped__StridedSlice_device_/job:localhost/replica:0/task:0/device:GPU:0}} slice index 32 of dimension 0 out of bounds. [Op:StridedSlice] name: strided_slice/"
     ]
    },
    {
     "data": {
      "image/png": "[encoded data removed]",
      "text/plain": [
       "<Figure size 432x288 with 1 Axes>"
      ]
     },
     "metadata": {
      "needs_background": "light"
     },
     "output_type": "display_data"
    }
   ],
   "source": [
    "for images_batch, labels_batch in test_ds.take(1):\n",
    "    \n",
    "    first_image = images_batch[0].numpy().astype('uint8')\n",
    "    first_label = labels_batch[0].numpy()\n",
    "    \n",
    "    batch_prediction = model.predict(images_batch)\n",
    "    for i in range(50):\n",
    "        first_image = images_batch[i].numpy().astype('uint8')\n",
    "        plt.imshow(first_image)\n",
    "        first_label = labels_batch[i].numpy()\n",
    "        print(\"actual label:\",class_names[first_label])\n",
    "        print(\"predicted label:\",class_names[np.argmax(batch_prediction[i])])"
   ]
  },
  {
   "cell_type": "code",
   "execution_count": 191,
   "id": "eb6dcf7c",
   "metadata": {
    "scrolled": false
   },
   "outputs": [
    {
     "name": "stdout",
     "output_type": "stream",
     "text": [
      "WARNING:tensorflow:Using a while_loop for converting RngReadAndSkip cause there is no registered converter for this op.\n"
     ]
    },
    {
     "name": "stderr",
     "output_type": "stream",
     "text": [
      "WARNING:tensorflow:Using a while_loop for converting RngReadAndSkip cause there is no registered converter for this op.\n"
     ]
    },
    {
     "name": "stdout",
     "output_type": "stream",
     "text": [
      "WARNING:tensorflow:Using a while_loop for converting Bitcast cause there is no registered converter for this op.\n"
     ]
    },
    {
     "name": "stderr",
     "output_type": "stream",
     "text": [
      "WARNING:tensorflow:Using a while_loop for converting Bitcast cause there is no registered converter for this op.\n"
     ]
    },
    {
     "name": "stdout",
     "output_type": "stream",
     "text": [
      "WARNING:tensorflow:Using a while_loop for converting Bitcast cause there is no registered converter for this op.\n"
     ]
    },
    {
     "name": "stderr",
     "output_type": "stream",
     "text": [
      "WARNING:tensorflow:Using a while_loop for converting Bitcast cause there is no registered converter for this op.\n"
     ]
    },
    {
     "name": "stdout",
     "output_type": "stream",
     "text": [
      "WARNING:tensorflow:Using a while_loop for converting StatelessRandomUniformV2 cause there is no registered converter for this op.\n"
     ]
    },
    {
     "name": "stderr",
     "output_type": "stream",
     "text": [
      "WARNING:tensorflow:Using a while_loop for converting StatelessRandomUniformV2 cause there is no registered converter for this op.\n"
     ]
    },
    {
     "name": "stdout",
     "output_type": "stream",
     "text": [
      "WARNING:tensorflow:Using a while_loop for converting ImageProjectiveTransformV3 cause there is no registered converter for this op.\n"
     ]
    },
    {
     "name": "stderr",
     "output_type": "stream",
     "text": [
      "WARNING:tensorflow:Using a while_loop for converting ImageProjectiveTransformV3 cause there is no registered converter for this op.\n"
     ]
    },
    {
     "name": "stdout",
     "output_type": "stream",
     "text": [
      "WARNING:tensorflow:Using a while_loop for converting RngReadAndSkip cause there is no registered converter for this op.\n"
     ]
    },
    {
     "name": "stderr",
     "output_type": "stream",
     "text": [
      "WARNING:tensorflow:Using a while_loop for converting RngReadAndSkip cause there is no registered converter for this op.\n"
     ]
    },
    {
     "name": "stdout",
     "output_type": "stream",
     "text": [
      "WARNING:tensorflow:Using a while_loop for converting Bitcast cause there is no registered converter for this op.\n"
     ]
    },
    {
     "name": "stderr",
     "output_type": "stream",
     "text": [
      "WARNING:tensorflow:Using a while_loop for converting Bitcast cause there is no registered converter for this op.\n"
     ]
    },
    {
     "name": "stdout",
     "output_type": "stream",
     "text": [
      "WARNING:tensorflow:Using a while_loop for converting Bitcast cause there is no registered converter for this op.\n"
     ]
    },
    {
     "name": "stderr",
     "output_type": "stream",
     "text": [
      "WARNING:tensorflow:Using a while_loop for converting Bitcast cause there is no registered converter for this op.\n"
     ]
    },
    {
     "name": "stdout",
     "output_type": "stream",
     "text": [
      "WARNING:tensorflow:Using a while_loop for converting StatelessRandomUniformV2 cause there is no registered converter for this op.\n"
     ]
    },
    {
     "name": "stderr",
     "output_type": "stream",
     "text": [
      "WARNING:tensorflow:Using a while_loop for converting StatelessRandomUniformV2 cause there is no registered converter for this op.\n"
     ]
    },
    {
     "name": "stdout",
     "output_type": "stream",
     "text": [
      "WARNING:tensorflow:Using a while_loop for converting ImageProjectiveTransformV3 cause there is no registered converter for this op.\n"
     ]
    },
    {
     "name": "stderr",
     "output_type": "stream",
     "text": [
      "WARNING:tensorflow:Using a while_loop for converting ImageProjectiveTransformV3 cause there is no registered converter for this op.\n"
     ]
    },
    {
     "name": "stdout",
     "output_type": "stream",
     "text": [
      "WARNING:tensorflow:Using a while_loop for converting RngReadAndSkip cause there is no registered converter for this op.\n"
     ]
    },
    {
     "name": "stderr",
     "output_type": "stream",
     "text": [
      "WARNING:tensorflow:Using a while_loop for converting RngReadAndSkip cause there is no registered converter for this op.\n"
     ]
    },
    {
     "name": "stdout",
     "output_type": "stream",
     "text": [
      "WARNING:tensorflow:Using a while_loop for converting Bitcast cause there is no registered converter for this op.\n"
     ]
    },
    {
     "name": "stderr",
     "output_type": "stream",
     "text": [
      "WARNING:tensorflow:Using a while_loop for converting Bitcast cause there is no registered converter for this op.\n"
     ]
    },
    {
     "name": "stdout",
     "output_type": "stream",
     "text": [
      "WARNING:tensorflow:Using a while_loop for converting Bitcast cause there is no registered converter for this op.\n"
     ]
    },
    {
     "name": "stderr",
     "output_type": "stream",
     "text": [
      "WARNING:tensorflow:Using a while_loop for converting Bitcast cause there is no registered converter for this op.\n"
     ]
    },
    {
     "name": "stdout",
     "output_type": "stream",
     "text": [
      "WARNING:tensorflow:Using a while_loop for converting StatelessRandomUniformV2 cause there is no registered converter for this op.\n"
     ]
    },
    {
     "name": "stderr",
     "output_type": "stream",
     "text": [
      "WARNING:tensorflow:Using a while_loop for converting StatelessRandomUniformV2 cause there is no registered converter for this op.\n"
     ]
    },
    {
     "name": "stdout",
     "output_type": "stream",
     "text": [
      "WARNING:tensorflow:Using a while_loop for converting ImageProjectiveTransformV3 cause there is no registered converter for this op.\n"
     ]
    },
    {
     "name": "stderr",
     "output_type": "stream",
     "text": [
      "WARNING:tensorflow:Using a while_loop for converting ImageProjectiveTransformV3 cause there is no registered converter for this op.\n"
     ]
    },
    {
     "name": "stdout",
     "output_type": "stream",
     "text": [
      "WARNING:tensorflow:Using a while_loop for converting RngReadAndSkip cause there is no registered converter for this op.\n"
     ]
    },
    {
     "name": "stderr",
     "output_type": "stream",
     "text": [
      "WARNING:tensorflow:Using a while_loop for converting RngReadAndSkip cause there is no registered converter for this op.\n"
     ]
    },
    {
     "name": "stdout",
     "output_type": "stream",
     "text": [
      "WARNING:tensorflow:Using a while_loop for converting Bitcast cause there is no registered converter for this op.\n"
     ]
    },
    {
     "name": "stderr",
     "output_type": "stream",
     "text": [
      "WARNING:tensorflow:Using a while_loop for converting Bitcast cause there is no registered converter for this op.\n"
     ]
    },
    {
     "name": "stdout",
     "output_type": "stream",
     "text": [
      "WARNING:tensorflow:Using a while_loop for converting Bitcast cause there is no registered converter for this op.\n"
     ]
    },
    {
     "name": "stderr",
     "output_type": "stream",
     "text": [
      "WARNING:tensorflow:Using a while_loop for converting Bitcast cause there is no registered converter for this op.\n"
     ]
    },
    {
     "name": "stdout",
     "output_type": "stream",
     "text": [
      "WARNING:tensorflow:Using a while_loop for converting StatelessRandomUniformV2 cause there is no registered converter for this op.\n"
     ]
    },
    {
     "name": "stderr",
     "output_type": "stream",
     "text": [
      "WARNING:tensorflow:Using a while_loop for converting StatelessRandomUniformV2 cause there is no registered converter for this op.\n"
     ]
    },
    {
     "name": "stdout",
     "output_type": "stream",
     "text": [
      "WARNING:tensorflow:Using a while_loop for converting ImageProjectiveTransformV3 cause there is no registered converter for this op.\n"
     ]
    },
    {
     "name": "stderr",
     "output_type": "stream",
     "text": [
      "WARNING:tensorflow:Using a while_loop for converting ImageProjectiveTransformV3 cause there is no registered converter for this op.\n",
      "WARNING:absl:Found untraced functions such as _jit_compiled_convolution_op, _jit_compiled_convolution_op, _jit_compiled_convolution_op, _jit_compiled_convolution_op, _jit_compiled_convolution_op while saving (showing 5 of 6). These functions will not be directly callable after loading.\n"
     ]
    },
    {
     "name": "stdout",
     "output_type": "stream",
     "text": [
      "INFO:tensorflow:Assets written to: ./models/assets\n"
     ]
    },
    {
     "name": "stderr",
     "output_type": "stream",
     "text": [
      "INFO:tensorflow:Assets written to: ./models/assets\n"
     ]
    }
   ],
   "source": [
    "import os\n",
    "model.save(f\"./models/\")"
   ]
  },
  {
   "cell_type": "code",
   "execution_count": 177,
   "id": "b9248b6f",
   "metadata": {},
   "outputs": [
    {
     "name": "stdout",
     "output_type": "stream",
     "text": [
      "WARNING:tensorflow:Model was constructed with shape (None, 256, 3) for input KerasTensor(type_spec=TensorSpec(shape=(None, 256, 3), dtype=tf.float32, name='resizing_1_input'), name='resizing_1_input', description=\"created by layer 'resizing_1_input'\"), but it was called on an input with incompatible shape (None, 256, 256, 3).\n"
     ]
    },
    {
     "name": "stderr",
     "output_type": "stream",
     "text": [
      "WARNING:tensorflow:Model was constructed with shape (None, 256, 3) for input KerasTensor(type_spec=TensorSpec(shape=(None, 256, 3), dtype=tf.float32, name='resizing_1_input'), name='resizing_1_input', description=\"created by layer 'resizing_1_input'\"), but it was called on an input with incompatible shape (None, 256, 256, 3).\n"
     ]
    },
    {
     "name": "stdout",
     "output_type": "stream",
     "text": [
      "WARNING:tensorflow:Using a while_loop for converting RngReadAndSkip cause there is no registered converter for this op.\n"
     ]
    },
    {
     "name": "stderr",
     "output_type": "stream",
     "text": [
      "WARNING:tensorflow:Using a while_loop for converting RngReadAndSkip cause there is no registered converter for this op.\n"
     ]
    },
    {
     "name": "stdout",
     "output_type": "stream",
     "text": [
      "WARNING:tensorflow:Using a while_loop for converting Bitcast cause there is no registered converter for this op.\n"
     ]
    },
    {
     "name": "stderr",
     "output_type": "stream",
     "text": [
      "WARNING:tensorflow:Using a while_loop for converting Bitcast cause there is no registered converter for this op.\n"
     ]
    },
    {
     "name": "stdout",
     "output_type": "stream",
     "text": [
      "WARNING:tensorflow:Using a while_loop for converting Bitcast cause there is no registered converter for this op.\n"
     ]
    },
    {
     "name": "stderr",
     "output_type": "stream",
     "text": [
      "WARNING:tensorflow:Using a while_loop for converting Bitcast cause there is no registered converter for this op.\n"
     ]
    },
    {
     "name": "stdout",
     "output_type": "stream",
     "text": [
      "WARNING:tensorflow:Using a while_loop for converting StatelessRandomUniformV2 cause there is no registered converter for this op.\n"
     ]
    },
    {
     "name": "stderr",
     "output_type": "stream",
     "text": [
      "WARNING:tensorflow:Using a while_loop for converting StatelessRandomUniformV2 cause there is no registered converter for this op.\n"
     ]
    },
    {
     "name": "stdout",
     "output_type": "stream",
     "text": [
      "WARNING:tensorflow:Using a while_loop for converting ImageProjectiveTransformV3 cause there is no registered converter for this op.\n"
     ]
    },
    {
     "name": "stderr",
     "output_type": "stream",
     "text": [
      "WARNING:tensorflow:Using a while_loop for converting ImageProjectiveTransformV3 cause there is no registered converter for this op.\n"
     ]
    },
    {
     "name": "stdout",
     "output_type": "stream",
     "text": [
      "WARNING:tensorflow:Model was constructed with shape (None, 256, 3) for input KerasTensor(type_spec=TensorSpec(shape=(None, 256, 3), dtype=tf.float32, name='resizing_1_input'), name='resizing_1_input', description=\"created by layer 'resizing_1_input'\"), but it was called on an input with incompatible shape (None, 256, 256, 3).\n"
     ]
    },
    {
     "name": "stderr",
     "output_type": "stream",
     "text": [
      "WARNING:tensorflow:Model was constructed with shape (None, 256, 3) for input KerasTensor(type_spec=TensorSpec(shape=(None, 256, 3), dtype=tf.float32, name='resizing_1_input'), name='resizing_1_input', description=\"created by layer 'resizing_1_input'\"), but it was called on an input with incompatible shape (None, 256, 256, 3).\n"
     ]
    },
    {
     "name": "stdout",
     "output_type": "stream",
     "text": [
      "WARNING:tensorflow:Model was constructed with shape (None, 256, 3) for input KerasTensor(type_spec=TensorSpec(shape=(None, 256, 3), dtype=tf.float32, name='resizing_1_input'), name='resizing_1_input', description=\"created by layer 'resizing_1_input'\"), but it was called on an input with incompatible shape (None, 256, 256, 3).\n"
     ]
    },
    {
     "name": "stderr",
     "output_type": "stream",
     "text": [
      "WARNING:tensorflow:Model was constructed with shape (None, 256, 3) for input KerasTensor(type_spec=TensorSpec(shape=(None, 256, 3), dtype=tf.float32, name='resizing_1_input'), name='resizing_1_input', description=\"created by layer 'resizing_1_input'\"), but it was called on an input with incompatible shape (None, 256, 256, 3).\n"
     ]
    },
    {
     "name": "stdout",
     "output_type": "stream",
     "text": [
      "WARNING:tensorflow:Model was constructed with shape (None, 256, 3) for input KerasTensor(type_spec=TensorSpec(shape=(None, 256, 3), dtype=tf.float32, name='resizing_1_input'), name='resizing_1_input', description=\"created by layer 'resizing_1_input'\"), but it was called on an input with incompatible shape (None, 256, 256, 3).\n"
     ]
    },
    {
     "name": "stderr",
     "output_type": "stream",
     "text": [
      "WARNING:tensorflow:Model was constructed with shape (None, 256, 3) for input KerasTensor(type_spec=TensorSpec(shape=(None, 256, 3), dtype=tf.float32, name='resizing_1_input'), name='resizing_1_input', description=\"created by layer 'resizing_1_input'\"), but it was called on an input with incompatible shape (None, 256, 256, 3).\n"
     ]
    },
    {
     "name": "stdout",
     "output_type": "stream",
     "text": [
      "WARNING:tensorflow:Model was constructed with shape (None, 256, 3) for input KerasTensor(type_spec=TensorSpec(shape=(None, 256, 3), dtype=tf.float32, name='resizing_1_input'), name='resizing_1_input', description=\"created by layer 'resizing_1_input'\"), but it was called on an input with incompatible shape (None, 256, 256, 3).\n"
     ]
    },
    {
     "name": "stderr",
     "output_type": "stream",
     "text": [
      "WARNING:tensorflow:Model was constructed with shape (None, 256, 3) for input KerasTensor(type_spec=TensorSpec(shape=(None, 256, 3), dtype=tf.float32, name='resizing_1_input'), name='resizing_1_input', description=\"created by layer 'resizing_1_input'\"), but it was called on an input with incompatible shape (None, 256, 256, 3).\n"
     ]
    },
    {
     "name": "stdout",
     "output_type": "stream",
     "text": [
      "WARNING:tensorflow:Using a while_loop for converting RngReadAndSkip cause there is no registered converter for this op.\n"
     ]
    },
    {
     "name": "stderr",
     "output_type": "stream",
     "text": [
      "WARNING:tensorflow:Using a while_loop for converting RngReadAndSkip cause there is no registered converter for this op.\n"
     ]
    },
    {
     "name": "stdout",
     "output_type": "stream",
     "text": [
      "WARNING:tensorflow:Using a while_loop for converting Bitcast cause there is no registered converter for this op.\n"
     ]
    },
    {
     "name": "stderr",
     "output_type": "stream",
     "text": [
      "WARNING:tensorflow:Using a while_loop for converting Bitcast cause there is no registered converter for this op.\n"
     ]
    },
    {
     "name": "stdout",
     "output_type": "stream",
     "text": [
      "WARNING:tensorflow:Using a while_loop for converting Bitcast cause there is no registered converter for this op.\n"
     ]
    },
    {
     "name": "stderr",
     "output_type": "stream",
     "text": [
      "WARNING:tensorflow:Using a while_loop for converting Bitcast cause there is no registered converter for this op.\n"
     ]
    },
    {
     "name": "stdout",
     "output_type": "stream",
     "text": [
      "WARNING:tensorflow:Using a while_loop for converting StatelessRandomUniformV2 cause there is no registered converter for this op.\n"
     ]
    },
    {
     "name": "stderr",
     "output_type": "stream",
     "text": [
      "WARNING:tensorflow:Using a while_loop for converting StatelessRandomUniformV2 cause there is no registered converter for this op.\n"
     ]
    },
    {
     "name": "stdout",
     "output_type": "stream",
     "text": [
      "WARNING:tensorflow:Using a while_loop for converting ImageProjectiveTransformV3 cause there is no registered converter for this op.\n"
     ]
    },
    {
     "name": "stderr",
     "output_type": "stream",
     "text": [
      "WARNING:tensorflow:Using a while_loop for converting ImageProjectiveTransformV3 cause there is no registered converter for this op.\n"
     ]
    },
    {
     "name": "stdout",
     "output_type": "stream",
     "text": [
      "WARNING:tensorflow:Model was constructed with shape (None, 256, 3) for input KerasTensor(type_spec=TensorSpec(shape=(None, 256, 3), dtype=tf.float32, name='resizing_1_input'), name='resizing_1_input', description=\"created by layer 'resizing_1_input'\"), but it was called on an input with incompatible shape (None, 256, 256, 3).\n"
     ]
    },
    {
     "name": "stderr",
     "output_type": "stream",
     "text": [
      "WARNING:tensorflow:Model was constructed with shape (None, 256, 3) for input KerasTensor(type_spec=TensorSpec(shape=(None, 256, 3), dtype=tf.float32, name='resizing_1_input'), name='resizing_1_input', description=\"created by layer 'resizing_1_input'\"), but it was called on an input with incompatible shape (None, 256, 256, 3).\n"
     ]
    },
    {
     "name": "stdout",
     "output_type": "stream",
     "text": [
      "WARNING:tensorflow:Model was constructed with shape (None, 256, 3) for input KerasTensor(type_spec=TensorSpec(shape=(None, 256, 3), dtype=tf.float32, name='resizing_1_input'), name='resizing_1_input', description=\"created by layer 'resizing_1_input'\"), but it was called on an input with incompatible shape (None, 256, 256, 3).\n"
     ]
    },
    {
     "name": "stderr",
     "output_type": "stream",
     "text": [
      "WARNING:tensorflow:Model was constructed with shape (None, 256, 3) for input KerasTensor(type_spec=TensorSpec(shape=(None, 256, 3), dtype=tf.float32, name='resizing_1_input'), name='resizing_1_input', description=\"created by layer 'resizing_1_input'\"), but it was called on an input with incompatible shape (None, 256, 256, 3).\n"
     ]
    },
    {
     "name": "stdout",
     "output_type": "stream",
     "text": [
      "WARNING:tensorflow:Using a while_loop for converting RngReadAndSkip cause there is no registered converter for this op.\n"
     ]
    },
    {
     "name": "stderr",
     "output_type": "stream",
     "text": [
      "WARNING:tensorflow:Using a while_loop for converting RngReadAndSkip cause there is no registered converter for this op.\n"
     ]
    },
    {
     "name": "stdout",
     "output_type": "stream",
     "text": [
      "WARNING:tensorflow:Using a while_loop for converting Bitcast cause there is no registered converter for this op.\n"
     ]
    },
    {
     "name": "stderr",
     "output_type": "stream",
     "text": [
      "WARNING:tensorflow:Using a while_loop for converting Bitcast cause there is no registered converter for this op.\n"
     ]
    },
    {
     "name": "stdout",
     "output_type": "stream",
     "text": [
      "WARNING:tensorflow:Using a while_loop for converting Bitcast cause there is no registered converter for this op.\n"
     ]
    },
    {
     "name": "stderr",
     "output_type": "stream",
     "text": [
      "WARNING:tensorflow:Using a while_loop for converting Bitcast cause there is no registered converter for this op.\n"
     ]
    },
    {
     "name": "stdout",
     "output_type": "stream",
     "text": [
      "WARNING:tensorflow:Using a while_loop for converting StatelessRandomUniformV2 cause there is no registered converter for this op.\n"
     ]
    },
    {
     "name": "stderr",
     "output_type": "stream",
     "text": [
      "WARNING:tensorflow:Using a while_loop for converting StatelessRandomUniformV2 cause there is no registered converter for this op.\n"
     ]
    },
    {
     "name": "stdout",
     "output_type": "stream",
     "text": [
      "WARNING:tensorflow:Using a while_loop for converting ImageProjectiveTransformV3 cause there is no registered converter for this op.\n"
     ]
    },
    {
     "name": "stderr",
     "output_type": "stream",
     "text": [
      "WARNING:tensorflow:Using a while_loop for converting ImageProjectiveTransformV3 cause there is no registered converter for this op.\n"
     ]
    },
    {
     "name": "stdout",
     "output_type": "stream",
     "text": [
      "WARNING:tensorflow:Using a while_loop for converting RngReadAndSkip cause there is no registered converter for this op.\n"
     ]
    },
    {
     "name": "stderr",
     "output_type": "stream",
     "text": [
      "WARNING:tensorflow:Using a while_loop for converting RngReadAndSkip cause there is no registered converter for this op.\n"
     ]
    },
    {
     "name": "stdout",
     "output_type": "stream",
     "text": [
      "WARNING:tensorflow:Using a while_loop for converting Bitcast cause there is no registered converter for this op.\n"
     ]
    },
    {
     "name": "stderr",
     "output_type": "stream",
     "text": [
      "WARNING:tensorflow:Using a while_loop for converting Bitcast cause there is no registered converter for this op.\n"
     ]
    },
    {
     "name": "stdout",
     "output_type": "stream",
     "text": [
      "WARNING:tensorflow:Using a while_loop for converting Bitcast cause there is no registered converter for this op.\n"
     ]
    },
    {
     "name": "stderr",
     "output_type": "stream",
     "text": [
      "WARNING:tensorflow:Using a while_loop for converting Bitcast cause there is no registered converter for this op.\n"
     ]
    },
    {
     "name": "stdout",
     "output_type": "stream",
     "text": [
      "WARNING:tensorflow:Using a while_loop for converting StatelessRandomUniformV2 cause there is no registered converter for this op.\n"
     ]
    },
    {
     "name": "stderr",
     "output_type": "stream",
     "text": [
      "WARNING:tensorflow:Using a while_loop for converting StatelessRandomUniformV2 cause there is no registered converter for this op.\n"
     ]
    },
    {
     "name": "stdout",
     "output_type": "stream",
     "text": [
      "WARNING:tensorflow:Using a while_loop for converting ImageProjectiveTransformV3 cause there is no registered converter for this op.\n"
     ]
    },
    {
     "name": "stderr",
     "output_type": "stream",
     "text": [
      "WARNING:tensorflow:Using a while_loop for converting ImageProjectiveTransformV3 cause there is no registered converter for this op.\n",
      "WARNING:absl:Found untraced functions such as _jit_compiled_convolution_op, _jit_compiled_convolution_op, _jit_compiled_convolution_op, _jit_compiled_convolution_op, _jit_compiled_convolution_op while saving (showing 5 of 6). These functions will not be directly callable after loading.\n"
     ]
    },
    {
     "name": "stdout",
     "output_type": "stream",
     "text": [
      "INFO:tensorflow:Assets written to: chilli.pkl\\assets\n"
     ]
    },
    {
     "name": "stderr",
     "output_type": "stream",
     "text": [
      "INFO:tensorflow:Assets written to: chilli.pkl\\assets\n"
     ]
    }
   ],
   "source": [
    "model.save('chilli.pkl')"
   ]
  }
 ],
 "metadata": {
  "kernelspec": {
   "display_name": "Python 3 (ipykernel)",
   "language": "python",
   "name": "python3"
  },
  "language_info": {
   "codemirror_mode": {
    "name": "ipython",
    "version": 3
   },
   "file_extension": ".py",
   "mimetype": "text/x-python",
   "name": "python",
   "nbconvert_exporter": "python",
   "pygments_lexer": "ipython3",
   "version": "3.10.7"
  }
 },
 "nbformat": 4,
 "nbformat_minor": 5
}
